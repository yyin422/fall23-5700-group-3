{
 "cells": [
  {
   "cell_type": "markdown",
   "metadata": {},
   "source": [
    "## HW 1 - Designing Blockchain\n",
    "\n",
    "Group 3: Shufeng Li, Wenlin Ye, Yifei Yin  \n",
    "Github link: https://github.com/yyin422/fall23-5700-group-3/tree/main/HW1"
   ]
  },
  {
   "cell_type": "code",
   "execution_count": 24,
   "metadata": {},
   "outputs": [],
   "source": [
    "import hashlib \n",
    "import random \n",
    "import time\n",
    "import datetime \n",
    "import ipyparallel as ipp\n",
    "import numpy as np\n",
    "import pandas as pd\n",
    "import matplotlib.pyplot as plt\n"
   ]
  },
  {
   "cell_type": "markdown",
   "metadata": {},
   "source": [
    "### 1. Blockchain Data Structure"
   ]
  },
  {
   "cell_type": "code",
   "execution_count": 25,
   "metadata": {},
   "outputs": [],
   "source": [
    "class Block: \n",
    "    def __init__(self, index, timestamp, data, previous_hash, nonce = 0):\n",
    "        self.index = index\n",
    "        self.timestamp = timestamp\n",
    "        self.data = data\n",
    "        self.nonce = nonce\n",
    "        self.previous_hash = previous_hash\n",
    "        self.hash = self.hash_block()\n",
    "    \n",
    "    def hash_block(self):\n",
    "        sha = hashlib.sha256()\n",
    "        block_hash = (str(self.index) + str(self.timestamp) + str(self.data) + str(self.previous_hash) + str(self.nonce))\n",
    "        block_hash = block_hash.encode(\"utf-8\")\n",
    "        sha.update(block_hash)\n",
    "        return sha.hexdigest()"
   ]
  },
  {
   "cell_type": "code",
   "execution_count": 26,
   "metadata": {},
   "outputs": [
    {
     "name": "stdout",
     "output_type": "stream",
     "text": [
      "260b5039394689051b599484df495d79a6a33d22a3ca37af72656d8cdfc6fcd5\n"
     ]
    }
   ],
   "source": [
    "block_time = '2022-02-13 23:59:00'\n",
    "data = 'Blockchain For Data Science'\n",
    "previous_hash = '9136cfeb0c77b41e1e86cb9940ca9bb65f7aca4e8e366a8ecf9226b735e0c323'\n",
    "index = 1\n",
    "new_block = Block(index, block_time, data, previous_hash)\n",
    "print(new_block.hash)"
   ]
  },
  {
   "cell_type": "code",
   "execution_count": 27,
   "metadata": {},
   "outputs": [
    {
     "name": "stdout",
     "output_type": "stream",
     "text": [
      "This is a valid Block\n"
     ]
    }
   ],
   "source": [
    "# Test Q1\n",
    "def block_validation(index, block_time, data, previous_hash):\n",
    "    new_block = Block(index, block_time, data, previous_hash)\n",
    "    check_string = '260b5039394689051b599484df495d79a6a33d22a3ca37af72656d8cdfc6fcd5'\n",
    "    print_statement = \"This is a valid Block\" if str(\n",
    "        new_block.hash) == check_string else \"Please Check your work, this is incorrect.\"\n",
    "    print(print_statement)\n",
    "\n",
    "block_validation(index, block_time, data, previous_hash)\n"
   ]
  },
  {
   "cell_type": "markdown",
   "metadata": {},
   "source": [
    "### 2. Creating a chain out of single blocks"
   ]
  },
  {
   "cell_type": "code",
   "execution_count": 28,
   "metadata": {},
   "outputs": [],
   "source": [
    "# create genesis block w/ current time & generic data\n",
    "def create_genesis_block(): \n",
    "    return Block(0, datetime.datetime.now(), \"Genesis Block\", \"0\")\n",
    "\n",
    "# create the next block given the last block on the chain you want to mine\n",
    "def next_block(last_block, nonce = 0): \n",
    "    this_index = last_block.index + 1\n",
    "    this_timestamp = datetime.datetime.now()\n",
    "    this_data = \"Hey! I'm block \" + str(this_index)\n",
    "    this_prevhash = last_block.hash\n",
    "    return Block(this_index, this_timestamp, this_data, this_prevhash)"
   ]
  },
  {
   "cell_type": "code",
   "execution_count": 29,
   "metadata": {},
   "outputs": [
    {
     "name": "stdout",
     "output_type": "stream",
     "text": [
      "Valid Genesis block\n"
     ]
    }
   ],
   "source": [
    "# Test Q2\n",
    "def genesis_validation(genesis_block):\n",
    "    block_1 = next_block(genesis_block)\n",
    "    if block_1.index == 1 and block_1.data == \"Hey! I'm block 1\" and block_1.previous_hash == genesis_block.hash and str(type(block_1.timestamp)) == \"<class 'datetime.datetime'>\":\n",
    "        print(\"Valid Genesis block\")\n",
    "    else:\n",
    "        print(\"Check the code, not a valid genesis block:(\")\n",
    "\n",
    "genesis_block = create_genesis_block()\n",
    "genesis_validation(genesis_block)\n"
   ]
  },
  {
   "cell_type": "markdown",
   "metadata": {},
   "source": [
    "### 3. Generating a complete Blockchain"
   ]
  },
  {
   "cell_type": "code",
   "execution_count": 30,
   "metadata": {},
   "outputs": [
    {
     "name": "stdout",
     "output_type": "stream",
     "text": [
      "Valid Genesis block\n",
      "the block #1 is added to the blockchain\n",
      "Hash : 0f6193ac230b8fe064f39470cb9965ebfb0f9ce23e9be1c03ec1bada29e7934e\n",
      "\n",
      "the block #2 is added to the blockchain\n",
      "Hash : 0683e615c7c07de9a4aa11b3ecbf726ad529c3f1a8d491e5a963d39bf26d7108\n",
      "\n",
      "the block #3 is added to the blockchain\n",
      "Hash : 39846f670488b8e263c82958514402098c9719dc3a45a5d7059e531565578535\n",
      "\n",
      "the block #4 is added to the blockchain\n",
      "Hash : 6ebb2a0bde6da5af38776080f52dfcf0670c7e94bbd57acd53d36f6fd9a6e7af\n",
      "\n",
      "the block #5 is added to the blockchain\n",
      "Hash : e63f8c3a9ac4de01dfb49a5ac744e1441a82843be657a34f37de39f40113398a\n",
      "\n",
      "the block #6 is added to the blockchain\n",
      "Hash : 450280a3679bf4a584abcdb78b5159ab7fddab5412b0d10f7a025a0a38790760\n",
      "\n",
      "the block #7 is added to the blockchain\n",
      "Hash : 068f0344ef59d7392d1de813cdeae18b63e6b1afbf9294e4daf937f866e67725\n",
      "\n",
      "the block #8 is added to the blockchain\n",
      "Hash : 30e73d6c20ea8bfb013b65561116f9f59bcb1b544a9341ad782ccaa76802b307\n",
      "\n",
      "the block #9 is added to the blockchain\n",
      "Hash : 01a78f181798086a9bd04cd2a7330941a5321b20c7c59e684a8ae59423f28714\n",
      "\n",
      "the block #10 is added to the blockchain\n",
      "Hash : afb594287de4d20945d9f97d1dd399196a7c3cf048f22b5c1bff6010f98340d7\n",
      "\n"
     ]
    }
   ],
   "source": [
    "# create blockchain + genesis block\n",
    "blockchain= [create_genesis_block()]\n",
    "\n",
    "# create initial reference to previous block which points to the genesis block\n",
    "previous_block = blockchain[0]\n",
    "\n",
    "# number of blocks we want in the bc after genesis block\n",
    "num_blocks = 10\n",
    "\n",
    "def complete_chain(num_blocks, blockchain, previous_block):\n",
    "    for i in range(0, num_blocks):\n",
    "        block_to_add = next_block(previous_block)\n",
    "        blockchain.append(block_to_add)\n",
    "        previous_block = block_to_add\n",
    "\n",
    "        print((\"the block #{} is added to the blockchain\".format(block_to_add.index)))\n",
    "        print(\"Hash : {}\\n\".format(block_to_add.hash))\n",
    "\n",
    "\n",
    "genesis_validation(previous_block)\n",
    "complete_chain(num_blocks, blockchain, previous_block)\n"
   ]
  },
  {
   "cell_type": "code",
   "execution_count": 31,
   "metadata": {},
   "outputs": [
    {
     "name": "stdout",
     "output_type": "stream",
     "text": [
      "PASSED! Move on to the next part.\n"
     ]
    }
   ],
   "source": [
    "# Test Q3\n",
    "def test_question_3(blockchain, num_blocks): \n",
    "    correct = True\n",
    "    if len(blockchain) != num_blocks + 1:\n",
    "        correct = False\n",
    "    for i in range(len(blockchain) - 1): \n",
    "        if blockchain[i+1].previous_hash != blockchain[i].hash:\n",
    "            correct = False\n",
    "            break\n",
    "\n",
    "    print_statement = \"PASSED! Move on to the next part.\" if correct else \"FAILED! Try again.\"\n",
    "    print(print_statement)\n",
    "\n",
    "test_question_3(blockchain, num_blocks)\n"
   ]
  },
  {
   "cell_type": "markdown",
   "metadata": {},
   "source": [
    "### 4. Nonce and Difficulty\n"
   ]
  },
  {
   "cell_type": "code",
   "execution_count": 32,
   "metadata": {},
   "outputs": [],
   "source": [
    "def generate_nonce(length): \n",
    "    return \"\".join([str(random.randint(0,9)) for i in range(length)])\n",
    "\n",
    "def generate_difficulty_bound(difficulty =1): \n",
    "    diff_str = \"\"\n",
    "    diff_str += '0' * difficulty\n",
    "    diff_str += 'F' * (64 - difficulty)\n",
    "    diff_str = \"0x\" + diff_str #specify: hex representation\n",
    "    #print(diff_str)\n",
    "    return(int(diff_str, 16)) #specify: want integer of base 10"
   ]
  },
  {
   "cell_type": "code",
   "execution_count": 33,
   "metadata": {},
   "outputs": [],
   "source": [
    "# given previous block & difficulty metic, find a nonce that results in a lower hash value\\\n",
    "def find_next_block(last_block, difficulty, nonce_length):\n",
    "    difficulty_bound = generate_difficulty_bound(difficulty)\n",
    "    start = time.process_time()\n",
    "    new_block = next_block(last_block)\n",
    "    hashes_tried = 1\n",
    "    while int(new_block.hash, 16) > difficulty_bound: \n",
    "        nonce = generate_nonce(nonce_length)\n",
    "        new_block = Block(new_block.index, new_block.timestamp, new_block.data, new_block.previous_hash, nonce)\n",
    "        hashes_tried += 1\n",
    "    time_taken = time.process_time() - start\n",
    "    return(time_taken, hashes_tried, new_block)\n"
   ]
  },
  {
   "cell_type": "code",
   "execution_count": 34,
   "metadata": {},
   "outputs": [
    {
     "data": {
      "text/plain": [
       "([7444,\n",
       "  618,\n",
       "  9420,\n",
       "  1362,\n",
       "  358,\n",
       "  41,\n",
       "  12778,\n",
       "  6319,\n",
       "  2717,\n",
       "  2779,\n",
       "  1593,\n",
       "  4596,\n",
       "  6309,\n",
       "  1224,\n",
       "  1891,\n",
       "  7641,\n",
       "  7570,\n",
       "  1584,\n",
       "  2291,\n",
       "  1283],\n",
       " [0.0,\n",
       "  0.046875,\n",
       "  0.03125,\n",
       "  0.015625,\n",
       "  0.0,\n",
       "  0.0,\n",
       "  0.09375,\n",
       "  0.015625,\n",
       "  0.0,\n",
       "  0.03125,\n",
       "  0.015625,\n",
       "  0.03125,\n",
       "  0.046875,\n",
       "  0.015625,\n",
       "  0.015625,\n",
       "  0.0625,\n",
       "  0.03125,\n",
       "  0.0,\n",
       "  0.0,\n",
       "  0.015625])"
      ]
     },
     "execution_count": 34,
     "metadata": {},
     "output_type": "execute_result"
    }
   ],
   "source": [
    "# Q4 Test\n",
    "blockchain = [create_genesis_block()]\n",
    "previous_block = blockchain[0]\n",
    "num_blocks = 20\n",
    "difficulty = 3\n",
    "nonce_length = 10\n",
    "\n",
    "\n",
    "def create_blockchain(num_blocks, difficulty, blockchain, previous_block, nonce_length, broadcast=1):\n",
    "    hash_ls = []\n",
    "    time_ls = []\n",
    "    \n",
    "    for _ in range(0, num_blocks):\n",
    "        timetaken, hash_tried, block_to_add = find_next_block(previous_block, difficulty, nonce_length)\n",
    "        blockchain.append(block_to_add)\n",
    "        previous_block = block_to_add\n",
    "        hash_ls.append(hash_tried)\n",
    "        time_ls.append(timetaken)\n",
    "    \n",
    "    return hash_ls, time_ls\n",
    "create_blockchain(num_blocks, difficulty, blockchain, previous_block, nonce_length)\n"
   ]
  },
  {
   "cell_type": "code",
   "execution_count": 36,
   "metadata": {},
   "outputs": [
    {
     "name": "stdout",
     "output_type": "stream",
     "text": [
      "PASSED!!! Move on to the next Part\n"
     ]
    }
   ],
   "source": [
    "def blockchain_proof(blockchain, num_blocks):\n",
    "    correct = True\n",
    "    bound = generate_difficulty_bound(difficulty)\n",
    "    if len(blockchain) != num_blocks + 1:\n",
    "        correct = False\n",
    "    for i in range(len(blockchain) - 1):\n",
    "        if blockchain[i + 1].previous_hash != blockchain[i].hash:\n",
    "            correct = False\n",
    "            break\n",
    "        if int(blockchain[i + 1].hash, 16) > bound:\n",
    "            correct = False\n",
    "            break\n",
    "    print_statement = \"PASSED!!! Move on to the next Part\" if correct else \"FAILED!!! Try Again :(\"\n",
    "    print(print_statement)\n",
    "\n",
    "blockchain_proof(blockchain, num_blocks)"
   ]
  },
  {
   "cell_type": "markdown",
   "metadata": {},
   "source": [
    "### 5. Distributed Network"
   ]
  },
  {
   "cell_type": "code",
   "execution_count": 37,
   "metadata": {},
   "outputs": [],
   "source": [
    "# Naive miner class that races with other miners to see who can get a certain number of blocks first\n",
    "\n",
    "class MinerNodeNaive:\n",
    "    def __init__(self, name, compute):\n",
    "        self.name = name\n",
    "        self.compute = compute\n",
    "\n",
    "    def try_hash(self, diff_value, chain):\n",
    "        last_block = chain[-1]\n",
    "        difficulty = generate_difficulty_bound(diff_value)\n",
    "        date_now = datetime.datetime.now()\n",
    "        this_index = last_block.index + 1\n",
    "        this_timestamp = date_now\n",
    "        this_data = \"Hey! I'm block \" + str(this_index)\n",
    "        this_hash = last_block.hash\n",
    "        new_block = Block(this_index, this_timestamp, this_data, this_hash)\n",
    "        if int(new_block.hash, 16) < difficulty:\n",
    "            chain.append(new_block)\n",
    "            # Tell everyone about it!\n",
    "            print(\"Block #{} has been added to the blockchain!\".format(new_block.index))\n",
    "            print(\"Block found by: {}\".format(self.name))\n",
    "            print(\"Hash: {}\\n\".format(new_block.hash))\n"
   ]
  },
  {
   "cell_type": "code",
   "execution_count": 38,
   "metadata": {},
   "outputs": [],
   "source": [
    "# Initiate multiple miners on network\n",
    "\n",
    "miner_1 = MinerNodeNaive(\"Miner 1\", 8)\n",
    "miner_2 = MinerNodeNaive(\"Miner 2\", 6)\n",
    "miner_3 = MinerNodeNaive(\"Miner 3\", 9)\n",
    "miner_4 = MinerNodeNaive(\"Miner 4\", 3)\n",
    "miner_5 = MinerNodeNaive(\"Miner 5\", 1)\n",
    "miners = [miner_1, miner_2, miner_3, miner_4, miner_5]\n"
   ]
  },
  {
   "cell_type": "code",
   "execution_count": 40,
   "metadata": {},
   "outputs": [],
   "source": [
    "def create_compute_simulation(miner_array): \n",
    "    compute_array = []\n",
    "    for miner in miner_array:\n",
    "        for i in range(miner.compute):\n",
    "            compute_array.append(miner.name)\n",
    "    return compute_array\n",
    "\n",
    "compute_simulation_array = create_compute_simulation(miners)\n",
    "random.shuffle(compute_simulation_array)"
   ]
  },
  {
   "cell_type": "code",
   "execution_count": 41,
   "metadata": {},
   "outputs": [
    {
     "name": "stdout",
     "output_type": "stream",
     "text": [
      "[6, 3, 2, 5, 4, 2, 4, 3, 2, 6, 2, 4, 4, 6, 2, 5, 4, 2, 2, 6]\n"
     ]
    }
   ],
   "source": [
    "chain_length = 20\n",
    "blockchain_distributed = [create_genesis_block()]\n",
    "genesis_block_dist = blockchain_distributed[0]\n",
    "chain_difficulty = [random.randint(2, 6) for i in range(chain_length)]\n",
    "print(chain_difficulty)"
   ]
  },
  {
   "cell_type": "code",
   "execution_count": 42,
   "metadata": {},
   "outputs": [
    {
     "name": "stdout",
     "output_type": "stream",
     "text": [
      "Block #1 has been added to the blockchain!\n",
      "Block found by: Miner 3\n",
      "Hash: 0001dfab3589e10136e4e94433452120c80268ed1cf329880050f88702521ee7\n",
      "\n",
      "Block #2 has been added to the blockchain!\n",
      "Block found by: Miner 1\n",
      "Hash: 0009fa3b000adea8395baf81fbd9186b3e75539c4cc4146d2b3b397608ed019a\n",
      "\n",
      "Block #3 has been added to the blockchain!\n",
      "Block found by: Miner 1\n",
      "Hash: 000ad619ef6ad969555bb98da3306462c90b611bc7b6b3f0af34c55b40817e50\n",
      "\n",
      "Block #4 has been added to the blockchain!\n",
      "Block found by: Miner 2\n",
      "Hash: 00089169da9b22d29021a1906ff8c586b5db05765f2af8add2c83f4dc908fc55\n",
      "\n",
      "Block #5 has been added to the blockchain!\n",
      "Block found by: Miner 1\n",
      "Hash: 000533b95cfc124bf1cc3991eb31562ca441f4b8d77f5206a79a9aa4091c86c5\n",
      "\n",
      "Block #6 has been added to the blockchain!\n",
      "Block found by: Miner 1\n",
      "Hash: 000f30194e8e0944eb049e25cedde13f739c8c30157247c923d7a015394e46d9\n",
      "\n",
      "Block #7 has been added to the blockchain!\n",
      "Block found by: Miner 4\n",
      "Hash: 000412b95dd956f2c5da0870252babeab9f09a0e49779e4fb2a4ca77869c151c\n",
      "\n",
      "Block #8 has been added to the blockchain!\n",
      "Block found by: Miner 1\n",
      "Hash: 0009c54534cc0e95106fb08f92cd3d691dcf56c5e4079a29f02d0e33ec8d25fa\n",
      "\n",
      "Block #9 has been added to the blockchain!\n",
      "Block found by: Miner 2\n",
      "Hash: 000b53a3f01f04e63a23b702d6316489cad5f8e26930ff266adb0c4a5e5f43fa\n",
      "\n",
      "Block #10 has been added to the blockchain!\n",
      "Block found by: Miner 3\n",
      "Hash: 000f7bcd550142d73b6082cbff48d99112aee3aa6711de2713f6ba7b17b43e24\n",
      "\n",
      "Block #11 has been added to the blockchain!\n",
      "Block found by: Miner 2\n",
      "Hash: 000d0668c7136fde9ad14345b98f9629ad01577a86ebf616eaa072790e425830\n",
      "\n",
      "Block #12 has been added to the blockchain!\n",
      "Block found by: Miner 1\n",
      "Hash: 0009ab2b97dc7fe85fb0b5990793922e570dc6fb373ac4aed95280cd06cdac14\n",
      "\n",
      "Block #13 has been added to the blockchain!\n",
      "Block found by: Miner 3\n",
      "Hash: 000352f9f2b0502174ede6f8e173d6043c8dc85980280dabbf8d9937fb65cf4c\n",
      "\n",
      "Block #14 has been added to the blockchain!\n",
      "Block found by: Miner 1\n",
      "Hash: 000ce150763ea791915678909c79bf97d000927fbf9f4b272096c556ce9571ec\n",
      "\n",
      "Block #15 has been added to the blockchain!\n",
      "Block found by: Miner 2\n",
      "Hash: 000cfd0577607c14c4fd14fa169fc286a9945bdbdc841bf7e1350bf38dfe7256\n",
      "\n",
      "Block #16 has been added to the blockchain!\n",
      "Block found by: Miner 4\n",
      "Hash: 000b0c5c2e4e6d2d574d6dbefd9f13113870651f129d6b8f86d3c0431421b996\n",
      "\n",
      "Block #17 has been added to the blockchain!\n",
      "Block found by: Miner 3\n",
      "Hash: 00059bc3a3a9b46a05297187ad0268eae992c2066093ea29d75915dd5640679c\n",
      "\n",
      "Block #18 has been added to the blockchain!\n",
      "Block found by: Miner 1\n",
      "Hash: 00025b631e4c4d24857bcf2536cb79be3801cf27f3cac01944c8c75730989fc7\n",
      "\n",
      "Block #19 has been added to the blockchain!\n",
      "Block found by: Miner 1\n",
      "Hash: 00001e64481e3e768b17dfc4dbb7070753084a88fb51acfae9d33336155af733\n",
      "\n",
      "Block #20 has been added to the blockchain!\n",
      "Block found by: Miner 2\n",
      "Hash: 00034a5a6be0bbf668ba00a3972178ca5e91d3aa13d7166d4bfb6e41ad70d04d\n",
      "\n"
     ]
    }
   ],
   "source": [
    "for i in range(len(chain_difficulty)): \n",
    "    while len(blockchain_distributed) < i + 2 : \n",
    "        next_miner_str = random.sample(compute_simulation_array, 1)[0]\n",
    "        next_miner = miner_2\n",
    "        for miner in miners: \n",
    "            if next_miner_str == miner.name:\n",
    "                next_miner = miner\n",
    "        next_miner.try_hash(chain_difficulty[1], blockchain_distributed)\n",
    "\n"
   ]
  },
  {
   "cell_type": "markdown",
   "metadata": {},
   "source": [
    "### 6. Analytics on the Blockchain Data\n"
   ]
  },
  {
   "cell_type": "code",
   "execution_count": 43,
   "metadata": {},
   "outputs": [
    {
     "name": "stdout",
     "output_type": "stream",
     "text": [
      "Difficulty level: 1 complete\n",
      "Difficulty level: 2 complete\n",
      "Difficulty level: 3 complete\n",
      "Difficulty level: 4 complete\n"
     ]
    }
   ],
   "source": [
    "num_blocks = 10\n",
    "blockchain = [create_genesis_block()]\n",
    "previous_block = blockchain[0]\n",
    "\n",
    "# diff types of difficulty to analyze\n",
    "difficulty_0 = 1\n",
    "difficulty_1 = 2\n",
    "difficulty_2 = 3\n",
    "difficulty_3 = 4\n",
    "\n",
    "nonce_length = 20\n",
    "\n",
    "hash_array_0, time_array_0 = create_blockchain(num_blocks, difficulty_0, blockchain, previous_block, nonce_length, 0)\n",
    "print(\"Difficulty level: {} complete\".format(difficulty_0))\n",
    "hash_array_1, time_array_1 = create_blockchain(num_blocks, difficulty_1, blockchain, previous_block, nonce_length, 0)\n",
    "print(\"Difficulty level: {} complete\".format(difficulty_1))\n",
    "hash_array_2, time_array_2 = create_blockchain(num_blocks, difficulty_2, blockchain, previous_block, nonce_length, 0)\n",
    "print(\"Difficulty level: {} complete\".format(difficulty_2))\n",
    "hash_array_3, time_array_3 = create_blockchain(num_blocks, difficulty_3, blockchain, previous_block, nonce_length, 0)\n",
    "print(\"Difficulty level: {} complete\".format(difficulty_3))\n",
    "\n"
   ]
  },
  {
   "cell_type": "code",
   "execution_count": 44,
   "metadata": {},
   "outputs": [],
   "source": [
    "mean_arr_hash = [np.mean(hash_array_0), np.mean(hash_array_1), np.mean(hash_array_2), np.mean(hash_array_3)]\n",
    "mean_arr_time = [np.mean(time_array_0), np.mean(time_array_1), np.mean(time_array_2), np.mean(time_array_3)]\n"
   ]
  },
  {
   "cell_type": "code",
   "execution_count": 45,
   "metadata": {},
   "outputs": [
    {
     "data": {
      "image/png": "[encoded data removed]",
      "text/plain": [
       "<Figure size 640x480 with 1 Axes>"
      ]
     },
     "metadata": {},
     "output_type": "display_data"
    }
   ],
   "source": [
    "plt.plot(mean_arr_hash)\n",
    "plt.xlabel(\"Difficulty Levels\")\n",
    "plt.ylabel(\"Mean Hash Value\")\n",
    "plt.title('Mean Hash Values for Difficulty Levels 1-4')\n",
    "plt.show()\n"
   ]
  }
 ],
 "metadata": {
  "kernelspec": {
   "display_name": "anly503",
   "language": "python",
   "name": "python3"
  },
  "language_info": {
   "codemirror_mode": {
    "name": "ipython",
    "version": 3
   },
   "file_extension": ".py",
   "mimetype": "text/x-python",
   "name": "python",
   "nbconvert_exporter": "python",
   "pygments_lexer": "ipython3",
   "version": "3.9.13"
  },
  "orig_nbformat": 4
 },
 "nbformat": 4,
 "nbformat_minor": 2
}
