{
 "cells": [
  {
   "cell_type": "markdown",
   "metadata": {},
   "source": [
    "## HW 1 - Designing Blockchain\n",
    "\n",
    "Group 3: Shufeng Li, Wenlin Ye, Yifei Yin  \n",
    "Github link: 记得弄一个"
   ]
  },
  {
   "cell_type": "code",
   "execution_count": 1,
   "metadata": {},
   "outputs": [],
   "source": [
    "import hashlib as hasher\n",
    "import random as rand\n",
    "import time\n",
    "import datetime as date\n",
    "import ipyparallel as ipp\n",
    "import numpy as np\n",
    "import pandas as pd\n",
    "import matplotlib.pyplot as plt\n"
   ]
  },
  {
   "cell_type": "markdown",
   "metadata": {},
   "source": [
    "### 1. Blockchain Data Structure"
   ]
  },
  {
   "cell_type": "code",
   "execution_count": 2,
   "metadata": {},
   "outputs": [],
   "source": [
    "class Block: \n",
    "    def __init__(self, index, timestamp, data, previous_hash, nonce = 0):\n",
    "        self.index = index\n",
    "        self.timestamp = timestamp\n",
    "        self.data = data\n",
    "        self.nonce = nonce\n",
    "        self.previous_hash = previous_hash\n",
    "        self.hash = self.hash_block()\n",
    "    \n",
    "    def hash_block(self):\n",
    "        sha = hasher.sha256()\n",
    "        block_hash = (str(self.index) + str(self.timestamp) + str(self.data) + str(self.previous_hash) + str(self.nonce))\n",
    "        block_hash = block_hash.encode(\"utf-8\")\n",
    "        sha.update(block_hash)\n",
    "        return sha.hexdigest()"
   ]
  },
  {
   "cell_type": "code",
   "execution_count": 5,
   "metadata": {},
   "outputs": [
    {
     "name": "stdout",
     "output_type": "stream",
     "text": [
      "260b5039394689051b599484df495d79a6a33d22a3ca37af72656d8cdfc6fcd5\n"
     ]
    }
   ],
   "source": [
    "block_time = '2022-02-13 23:59:00'\n",
    "data = 'Blockchain For Data Science'\n",
    "previous_hash = '9136cfeb0c77b41e1e86cb9940ca9bb65f7aca4e8e366a8ecf9226b735e0c323'\n",
    "index = 1\n",
    "new_block = Block(index, block_time, data, previous_hash)\n",
    "print(new_block.hash)"
   ]
  },
  {
   "cell_type": "code",
   "execution_count": 6,
   "metadata": {},
   "outputs": [
    {
     "name": "stdout",
     "output_type": "stream",
     "text": [
      "This is a valid Block\n"
     ]
    }
   ],
   "source": [
    "# Test Q1\n",
    "def block_validation(index, block_time, data, previous_hash):\n",
    "    new_block = Block(index, block_time, data, previous_hash)\n",
    "    check_string = '260b5039394689051b599484df495d79a6a33d22a3ca37af72656d8cdfc6fcd5'\n",
    "    print_statement = \"This is a valid Block\" if str(\n",
    "        new_block.hash) == check_string else \"Please Check your work, this is incorrect.\"\n",
    "    print(print_statement)\n",
    "\n",
    "block_validation(index, block_time, data, previous_hash)\n"
   ]
  },
  {
   "cell_type": "markdown",
   "metadata": {},
   "source": [
    "### 2. Creating a chain out of single blocks"
   ]
  },
  {
   "cell_type": "code",
   "execution_count": 7,
   "metadata": {},
   "outputs": [],
   "source": [
    "# create genesis block w/ current time & generic data\n",
    "def create_genesis_block(): \n",
    "    return Block(0, date.datetime.now(), \"Genesis Block\", \"0\")\n",
    "\n",
    "# create the next block given the last block on the chain you want to mine\n",
    "def next_block(last_block, nonce = 0): \n",
    "    this_index = last_block.index + 1\n",
    "    this_timestamp = date.datetime.now()\n",
    "    this_data = \"Hey! I'm block \" + str(this_index)\n",
    "    this_prevhash = last_block.hash\n",
    "    return Block(this_index, this_timestamp, this_data, this_prevhash)"
   ]
  },
  {
   "cell_type": "code",
   "execution_count": 8,
   "metadata": {},
   "outputs": [
    {
     "name": "stdout",
     "output_type": "stream",
     "text": [
      "Valid Genesis block\n"
     ]
    }
   ],
   "source": [
    "# Test Q2\n",
    "def genesis_validation(genesis_block):\n",
    "    block_1 = next_block(genesis_block)\n",
    "    if block_1.index == 1 and block_1.data == \"Hey! I'm block 1\" and block_1.previous_hash == genesis_block.hash and str(type(block_1.timestamp)) == \"<class 'datetime.datetime'>\":\n",
    "        print(\"Valid Genesis block\")\n",
    "    else:\n",
    "        print(\"Check the code, not a valid genesis block:(\")\n",
    "\n",
    "genesis_block = create_genesis_block()\n",
    "genesis_validation(genesis_block)\n"
   ]
  },
  {
   "cell_type": "markdown",
   "metadata": {},
   "source": [
    "### 3. Generating a complete Blockchain"
   ]
  },
  {
   "cell_type": "code",
   "execution_count": 17,
   "metadata": {},
   "outputs": [
    {
     "name": "stdout",
     "output_type": "stream",
     "text": [
      "the block #1 is added to the blockchain\n",
      "Hash : 439ea811834cc90f66fe015e6779b342d3d7345334c354b8cef8dd504cc5104f\n",
      "\n",
      "the block #2 is added to the blockchain\n",
      "Hash : 3887e64ef2d4a2cc7314b11241e9398fa59b0830928c2dbb429d76cc3ef8989a\n",
      "\n",
      "the block #3 is added to the blockchain\n",
      "Hash : 27a7bc9ba7e82782b760f5a1bb148cf351f0f9c4c66f972050459d14ae0cc965\n",
      "\n",
      "the block #4 is added to the blockchain\n",
      "Hash : 6b21eaee95e80bbacf18f89e1b5244cc5d9a8e89627b4333a589c32bfe7aa98f\n",
      "\n",
      "the block #5 is added to the blockchain\n",
      "Hash : 5ef209d920db7e23fd8fbd273c0af8af424603ee9f32dd6bbb87484004fd0aed\n",
      "\n"
     ]
    }
   ],
   "source": [
    "# create blockchain + genesis block\n",
    "blockchain= [create_genesis_block()]\n",
    "\n",
    "# create initial reference to previous block which points to the genesis block\n",
    "previous_block = blockchain[0]\n",
    "\n",
    "# number of blocks we want in the bc after genesis block\n",
    "num_blocks = 5\n",
    "\n",
    "def complete_chain(num_blocks, blockchain, previous_block):\n",
    "    for i in range(0, num_blocks):\n",
    "        block_to_add = next_block(previous_block)\n",
    "        blockchain.append(block_to_add)\n",
    "        previous_block = block_to_add\n",
    "\n",
    "        print((\"the block #{} is added to the blockchain\".format(block_to_add.index)))\n",
    "        print(\"Hash : {}\\n\".format(block_to_add.hash))\n",
    "\n",
    "complete_chain(num_blocks, blockchain, previous_block)\n"
   ]
  },
  {
   "cell_type": "code",
   "execution_count": 18,
   "metadata": {},
   "outputs": [
    {
     "name": "stdout",
     "output_type": "stream",
     "text": [
      "PASSED! Move on to the next part.\n"
     ]
    }
   ],
   "source": [
    "# Test Q3\n",
    "def test_question_3(blockchain, num_blocks): \n",
    "    correct = True\n",
    "    if len(blockchain) != num_blocks + 1:\n",
    "        correct = False\n",
    "    for i in range(len(blockchain) - 1): \n",
    "        if blockchain[i+1].previous_hash != blockchain[i].hash:\n",
    "            correct = False\n",
    "            break\n",
    "\n",
    "    print_statement = \"PASSED! Move on to the next part.\" if correct else \"FAILED! Try again.\"\n",
    "    print(print_statement)\n",
    "\n",
    "test_question_3(blockchain, num_blocks)\n"
   ]
  },
  {
   "cell_type": "markdown",
   "metadata": {},
   "source": [
    "### 4. Nonce and Difficulty\n"
   ]
  },
  {
   "cell_type": "code",
   "execution_count": 21,
   "metadata": {},
   "outputs": [],
   "source": [
    "def generate_nonce(length =20): \n",
    "    return \"\".join([str(rand.randint(0,9)) for i in range(length)])\n",
    "\n",
    "def generate_difficulty_bound(difficulty =1): \n",
    "    diff_str = \"\"\n",
    "    for i in range(difficulty): \n",
    "        diff_str += \"0\"\n",
    "    for i in range(64 - difficulty): \n",
    "        diff_str += \"F\"\n",
    "    diff_str = \"0x\" + diff_str #specify: hex representation\n",
    "    #print(diff_str)\n",
    "    return(int(diff_str, 16)) #specify: want integer of base 10"
   ]
  },
  {
   "cell_type": "code",
   "execution_count": 23,
   "metadata": {},
   "outputs": [],
   "source": [
    "# given previous block & difficulty metic, find a nonce that results in a lower hash value\\\n",
    "def find_next_block(last_block, difficulty, nonce_length):\n",
    "    difficulty_bound = generate_difficulty_bound(difficulty)\n",
    "    start = time.process_time()\n",
    "    new_block = next_block(last_block)\n",
    "    hashes_tried = 1\n",
    "    while int(new_block.hash, 16) > difficulty_bound: \n",
    "        nonce = generate_nonce(nonce_length)\n",
    "        new_block = Block(new_block.index, new_block.timestamp, new_block.data, new_block.previous_hash, nonce)\n",
    "        hashes_tried += 1\n",
    "    time_taken = time.process_time() - start\n",
    "    return(time_taken, hashes_tried, new_block)\n"
   ]
  },
  {
   "cell_type": "code",
   "execution_count": null,
   "metadata": {},
   "outputs": [],
   "source": [
    "# Q4 Test\n",
    "blockchain = [create_genesis_block()]\n",
    "previous_block = blockchain[0]\n",
    "num_blocks = 20\n",
    "difficulty = 3\n",
    "nonce_length = 10\n",
    "\n",
    "\n",
    "def blockchain_proof(blockchain, num_blocks):\n",
    "    correct = True\n",
    "    bound = generate_difficulty_bound(difficulty)\n",
    "    if len(blockchain) != num_blocks + 1:\n",
    "        correct = False\n",
    "    for i in range(len(blockchain) - 1):\n",
    "        if blockchain[i + 1].previous_hash != blockchain[i].hash:\n",
    "            correct = False\n",
    "            break\n",
    "        if int(blockchain[i + 1].hash, 16) > bound:\n",
    "            correct = False\n",
    "            break\n",
    "    print_statement = \"PASSED!!! Move on to the next Part\" if correct else \"FAILED!!! Try Again :(\"\n",
    "    print(print_statement)\n",
    "    blockchain_proof(blockchain, num_blocks)\n",
    "\n",
    "\n"
   ]
  },
  {
   "cell_type": "markdown",
   "metadata": {},
   "source": [
    "### 5. Distributed Network"
   ]
  },
  {
   "cell_type": "code",
   "execution_count": 64,
   "metadata": {},
   "outputs": [],
   "source": [
    "# Naive miner class that races with other miners to see who can get a certain number of blocks first\n",
    "\n",
    "class MinerNodeNaive:\n",
    "    def __init__(self, name, compute):\n",
    "        self.name = name\n",
    "        self.compute = compute\n",
    "\n",
    "    def try_hash(self, diff_value, chain):\n",
    "        last_block = chain[-1]\n",
    "        difficulty = generate_difficulty_bound(diff_value)\n",
    "        date_now = date.datetime.now()\n",
    "        this_index = last_block.index + 1\n",
    "        this_timestamp = date_now\n",
    "        this_data = \"Hey! I'm block \" + str(this_index)\n",
    "        this_hash = last_block.hash\n",
    "        new_block = Block(this_index, this_timestamp, this_data, this_hash)\n",
    "        if int(new_block.hash, 16) < difficulty:\n",
    "            chain.append(new_block)\n",
    "            # Tell everyone about it!\n",
    "            print(\"Block #{} has been added to the blockchain!\".format(new_block.index))\n",
    "            print(\"Block found by: {}\".format(self.name))\n",
    "            print(\"Hash: {}\\n\".format(new_block.hash))\n"
   ]
  },
  {
   "cell_type": "code",
   "execution_count": 65,
   "metadata": {},
   "outputs": [],
   "source": [
    "# Initiate multiple miners on network\n",
    "\n",
    "miner_1 = MinerNodeNaive(\"Miner 1\", 8)\n",
    "miner_2 = MinerNodeNaive(\"Miner 2\", 6)\n",
    "miner_3 = MinerNodeNaive(\"Miner 3\", 9)\n",
    "miner_4 = MinerNodeNaive(\"Miner 4\", 3)\n",
    "miner_5 = MinerNodeNaive(\"Miner 5\", 1)\n",
    "miners = [miner_1, miner_2, miner_3, miner_4, miner_5]\n"
   ]
  },
  {
   "cell_type": "code",
   "execution_count": 66,
   "metadata": {},
   "outputs": [],
   "source": [
    "def create_compute_simulation(miner_array): \n",
    "    compute_array = []\n",
    "    for miner in miner_array:\n",
    "        for i in range(miner.compute):\n",
    "            compute_array.append(miner.name)\n",
    "    return compute_array\n",
    "\n",
    "compute_simulation_array = create_compute_simulation(miner_array)\n",
    "rand.shuffle(compute_simulation_array)"
   ]
  },
  {
   "cell_type": "code",
   "execution_count": 67,
   "metadata": {},
   "outputs": [
    {
     "name": "stdout",
     "output_type": "stream",
     "text": [
      "[5, 5, 5, 3, 5, 5, 3, 6, 3, 3, 3, 5, 4, 5, 5, 2, 5, 4, 4, 3]\n"
     ]
    }
   ],
   "source": [
    "chain_length = 20\n",
    "blockchain_distributed = [create_genesis_block()]\n",
    "genesis_block_dist = blockchain_distributed[0]\n",
    "chain_difficulty = [rand.randint(2, 6) for i in range(chain_length)]\n",
    "print(chain_difficulty)"
   ]
  },
  {
   "cell_type": "code",
   "execution_count": 68,
   "metadata": {},
   "outputs": [
    {
     "name": "stdout",
     "output_type": "stream",
     "text": [
      "Block #1 has been added to the blockchain!\n",
      "Block found by: Miner 2\n",
      "Hash: ba35449cb484ee2277f217a551321aab93d5116661287f773ced6f02af956608\n",
      "\n",
      "Block #2 has been added to the blockchain!\n",
      "Block found by: Miner 2\n",
      "Hash: 0e0e517d993fe50410b342993e11d87e4f892e3aade64f574b06510fb326c2c3\n",
      "\n",
      "Block #3 has been added to the blockchain!\n",
      "Block found by: Miner 3\n",
      "Hash: be71028481d64a4b95077190adde7b1ae1fa78f1ef2edf38a3b875f584f61bbb\n",
      "\n",
      "Block #4 has been added to the blockchain!\n",
      "Block found by: Miner 1\n",
      "Hash: 66b6f83b3b33f15145d9d9a4ac64dfe978d4a847fdac95db6332ae42817a88ba\n",
      "\n",
      "Block #5 has been added to the blockchain!\n",
      "Block found by: Miner 3\n",
      "Hash: a7a578859b1dc8a0eea8176b853b1f8f1f18875f309f716cf00f3597a3973259\n",
      "\n",
      "Block #6 has been added to the blockchain!\n",
      "Block found by: Miner 5\n",
      "Hash: a88edeb4e684047936745610269c24f8b50b8e2408882d8e5fc5c48a813431d5\n",
      "\n",
      "Block #7 has been added to the blockchain!\n",
      "Block found by: Miner 1\n",
      "Hash: 77a31445f21d391e824131a3cbf39491b54cf05d48ccb117304ba7269a038424\n",
      "\n",
      "Block #8 has been added to the blockchain!\n",
      "Block found by: Miner 3\n",
      "Hash: 96311f6a735640bba9f691976db59a1e9a747b5cc182bab5e1a6974f16dc8c12\n",
      "\n",
      "Block #9 has been added to the blockchain!\n",
      "Block found by: Miner 3\n",
      "Hash: ecb65abf65a69e2bb7b23180a2dac9cbe727c88b0cac894ca323ef4e66160cbb\n",
      "\n",
      "Block #10 has been added to the blockchain!\n",
      "Block found by: Miner 2\n",
      "Hash: fd728f8861b9580f9664df831df2490b6286e67125591691cf23cfce8b639d55\n",
      "\n",
      "Block #11 has been added to the blockchain!\n",
      "Block found by: Miner 3\n",
      "Hash: 99e73e349603088cb40fb3030b8bba9387960176f8f3f71a86320ca859b62069\n",
      "\n",
      "Block #12 has been added to the blockchain!\n",
      "Block found by: Miner 1\n",
      "Hash: 443e8abdef46d118ef1d2c055b5b9791d44f7462f179f4c233857682c8941b84\n",
      "\n",
      "Block #13 has been added to the blockchain!\n",
      "Block found by: Miner 2\n",
      "Hash: 0b0e4ada4b6acac26be318e3cb6a894a0123f9401af4abbf6dc26334001a807f\n",
      "\n",
      "Block #14 has been added to the blockchain!\n",
      "Block found by: Miner 3\n",
      "Hash: a23129a29bb9afaa54b2f6247aa80fd9e8aa27673ac6a2017d1c4b7a9fe7d1f3\n",
      "\n",
      "Block #15 has been added to the blockchain!\n",
      "Block found by: Miner 3\n",
      "Hash: 31cc3dad89dd21f8184ae77b2124f833a9a20e3e3c0d2ba87c307d3a31773445\n",
      "\n",
      "Block #16 has been added to the blockchain!\n",
      "Block found by: Miner 5\n",
      "Hash: a3181bd8cf76cb97d7da30256679df0fbbcb4e18e771ff5b5b36daa9b0d3aa7b\n",
      "\n",
      "Block #17 has been added to the blockchain!\n",
      "Block found by: Miner 3\n",
      "Hash: 1fd0a041940fbbf9e8d483030400e2448e16cb65934e3f7360e5686cde289582\n",
      "\n",
      "Block #18 has been added to the blockchain!\n",
      "Block found by: Miner 1\n",
      "Hash: dedc38b9dfc8de934150b4193adff808c8c7643e7df37f5a1104b4ac192b1f0e\n",
      "\n",
      "Block #19 has been added to the blockchain!\n",
      "Block found by: Miner 4\n",
      "Hash: f281fa20bc1dfc9bb95cb2db317b82eac9a8da5b9fe4026315641e3ecc9f6343\n",
      "\n",
      "Block #20 has been added to the blockchain!\n",
      "Block found by: Miner 1\n",
      "Hash: d30b1b2e40d309f1a5a6f4cecbefecceb167764d52497dcd36564437c1b7633a\n",
      "\n"
     ]
    }
   ],
   "source": [
    "for i in range(len(chain_difficulty)): \n",
    "    while len(blockchain_distributed) < i + 2 : \n",
    "        next_miner_str = rand.sample(compute_simulation_array, 1)[0]\n",
    "        next_miner = miner_2\n",
    "        for miner in miners: \n",
    "            if next_miner_str == miner.name:\n",
    "                next_miner = miner\n",
    "        next_miner.try_hash(chain_difficulty[1], blockchain_distributed)\n",
    "\n"
   ]
  },
  {
   "cell_type": "markdown",
   "metadata": {},
   "source": [
    "### 6. Analytics on the Blockchain Data\n"
   ]
  },
  {
   "cell_type": "code",
   "execution_count": 73,
   "metadata": {},
   "outputs": [
    {
     "name": "stdout",
     "output_type": "stream",
     "text": [
      "Difficulty level: 1 complete\n",
      "Difficulty level: 2 complete\n",
      "Difficulty level: 3 complete\n",
      "Difficulty level: 4 complete\n"
     ]
    }
   ],
   "source": [
    "num_blocks = 10\n",
    "blockchain = [create_genesis_block()]\n",
    "previous_block = blockchain[0]\n",
    "\n",
    "# diff types of difficulty to analyze\n",
    "difficulty_0 = 1\n",
    "difficulty_1 = 2\n",
    "difficulty_2 = 3\n",
    "difficulty_3 = 4\n",
    "\n",
    "nonce_length = 20\n",
    "\n",
    "hash_array_0, time_array_0 = create_pow_blockchain(num_blocks, difficulty_0, blockchain, previous_block, nonce_length, 0)\n",
    "print(\"Difficulty level: {} complete\".format(difficulty_0))\n",
    "hash_array_1, time_array_1 = create_pow_blockchain(num_blocks, difficulty_1, blockchain, previous_block, nonce_length, 0)\n",
    "print(\"Difficulty level: {} complete\".format(difficulty_1))\n",
    "hash_array_2, time_array_2 = create_pow_blockchain(num_blocks, difficulty_2, blockchain, previous_block, nonce_length, 0)\n",
    "print(\"Difficulty level: {} complete\".format(difficulty_2))\n",
    "hash_array_3, time_array_3 = create_pow_blockchain(num_blocks, difficulty_3, blockchain, previous_block, nonce_length, 0)\n",
    "print(\"Difficulty level: {} complete\".format(difficulty_3))\n",
    "\n"
   ]
  },
  {
   "cell_type": "code",
   "execution_count": 74,
   "metadata": {},
   "outputs": [
    {
     "name": "stdout",
     "output_type": "stream",
     "text": [
      "[1, 1, 1, 1, 1, 1, 1, 1, 1, 1] [3.0999999999892225e-05, 9.999999999621423e-06, 8.999999998593466e-06, 8.999999998593466e-06, 8.000000001118224e-06, 8.000000001118224e-06, 7.99999999756551e-06, 8.000000001118224e-06, 8.000000001118224e-06, 8.000000001118224e-06]\n"
     ]
    }
   ],
   "source": [
    "mean_arr_hash = [np.mean(hash_array_0), np.mean(hash_array_1), np.mean(hash_array_2), np.mean(hash_array_3)]\n",
    "mean_arr_time = [np.mean(time_array_0), np.mean(time_array_1), np.mean(time_array_2), np.mean(time_array_3)]\n"
   ]
  },
  {
   "cell_type": "code",
   "execution_count": 75,
   "metadata": {},
   "outputs": [
    {
     "data": {
      "image/png": "[encoded data removed]",
      "text/plain": [
       "<Figure size 640x480 with 1 Axes>"
      ]
     },
     "metadata": {},
     "output_type": "display_data"
    }
   ],
   "source": [
    "plt.plot(mean_arr_hash)\n",
    "plt.xlabel(\"Difficulty Levels\")\n",
    "plt.ylabel(\"Mean Hash Value\")\n",
    "plt.title('Mean Hash Values for Difficulty Levels 1-4')\n",
    "plt.show()\n"
   ]
  },
  {
   "cell_type": "code",
   "execution_count": null,
   "metadata": {},
   "outputs": [],
   "source": [
    "\n"
   ]
  }
 ],
 "metadata": {
  "kernelspec": {
   "display_name": "anly503",
   "language": "python",
   "name": "python3"
  },
  "language_info": {
   "codemirror_mode": {
    "name": "ipython",
    "version": 3
   },
   "file_extension": ".py",
   "mimetype": "text/x-python",
   "name": "python",
   "nbconvert_exporter": "python",
   "pygments_lexer": "ipython3",
   "version": "3.10.8"
  },
  "orig_nbformat": 4
 },
 "nbformat": 4,
 "nbformat_minor": 2
}
