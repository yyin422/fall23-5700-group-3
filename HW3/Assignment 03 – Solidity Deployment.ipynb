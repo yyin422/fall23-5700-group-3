{
 "cells": [
  {
   "cell_type": "markdown",
   "metadata": {},
   "source": [
    "Group 3: Wenlin Ye, Yifei Yin，Shufeng Li\n",
    "Github link: "
   ]
  },
  {
   "cell_type": "markdown",
   "metadata": {},
   "source": [
    "1 Contract Design I – Deposite Routine\n",
    "\n",
    "1. Add the SPDX line set it to the MIT license\n",
    "2. Set Solidity version to 0.8.11 and up\n",
    "3. Create a contract (choose the file’s name as you like). The title should reasonably match the contract’s work and be in Camel Case. My contract name is “MoneyManager.”\n",
    "4. We want to assign two unsigned integers (you can set the bit value to 256 or higher, but it’s better to leave that blank, uint or uint256) receivedAmmount, and timeOut.\n",
    "5. We want to build a public function that receives money. This function also needs to use the “payable” modifier (like public, private, etc.) to receive money.\n",
    "    1. Set the receivedAmount variable to increment (+=, do not use A=A+amount notation, why?) msg.value.\n",
    "6. Create a public view function that returns an unsigned integer (uint) for the address(this).balance. (this here represents the currently given address). My function is named “currentBalance”\n",
    "7. Deploy this smart contract and follow prompts from the video (transfer ether to the contract)"
   ]
  },
  {
   "cell_type": "code",
   "execution_count": null,
   "metadata": {},
   "outputs": [],
   "source": [
    "contract MoneyManager {\n",
    "    \n",
    "    uint public receivedAmount;\n",
    "    uint public timeOut;\n",
    "    \n",
    "    // Question 1 \n",
    "    function receiveMoney() public payable {\n",
    "        receivedAmount +- msg.value;\n",
    "        timeOut = block.timestamp + 1 minutes;\n",
    "    }\n",
    "    \n",
    "    // Question 1 \n",
    "    function getBalance() public view returns(uint){\n",
    "        return address(this).balance;\n",
    "    }\n",
    "    \n",
    "    // Question 2 \n",
    "    function withdrawMoney() public {\n",
    "        if(timeout < block.tiimestamp){\n",
    "        address payable to = payable(msg.sender);\n",
    "        to.transfer(currentBalance());\n",
    "        }\n",
    "        \n",
    "    }\n",
    "    // Question 3  \n",
    "    function withdrawToAddress(address payable _address) public {\n",
    "                if(timeout < block.tiimestamp){\n",
    "        _address.transfer(currentBalance());\n",
    "                }\n",
    "    \n",
    "    // Question 4\n",
    "    \n",
    "}\n",
    "\n",
    "\n",
    "}\n",
    "\n",
    "/*\n",
    "uint public a\n",
    "uint public b\n",
    "uint public c\n",
    "\n",
    "function multicalc() public {\n",
    " c = a+b; // 3 gas   \n",
    " c = a*b; // 5 gas    \n",
    " c = a-b; // 3 gas \n",
    "}\n",
    "*/\n"
   ]
  },
  {
   "cell_type": "markdown",
   "metadata": {},
   "source": [
    "2          Contract design II – Withdraw Routine\n",
    "1. Create a public function that initiates withdrawal of money from the given address. My function is called WithdrawMoney\n",
    "2. Inside the function set\n",
    "    1. addresses variable with payable modifier assigned to the msg.sender.\n",
    "    2. and a to.transfer procedure that calls the currentBalance function from above\n",
    "3. Deploy this smart contract and follow prompts from the video (transfer ether to the contract)"
   ]
  },
  {
   "cell_type": "code",
   "execution_count": null,
   "metadata": {},
   "outputs": [],
   "source": []
  },
  {
   "cell_type": "markdown",
   "metadata": {},
   "source": [
    "3          Contract Design III – Withdraw to address\n",
    "1. Create a public function withdrawToAddress() which takes payable address variable _address\n",
    "2. Inside the function\n",
    "Get the balance for that address by using _address.transfer(getBalance())\n",
    "\n",
    "4. Deploy this smart contract and follow prompts from the video (transfer ether to the contract)"
   ]
  },
  {
   "cell_type": "code",
   "execution_count": null,
   "metadata": {},
   "outputs": [],
   "source": []
  },
  {
   "cell_type": "markdown",
   "metadata": {},
   "source": [
    "4          Contract Design IV – Locking the withdrawal for sometime\n",
    "1. We will use the unsigned integer timeOut here\n",
    "2. In the Currentbalance function from 1\n",
    "    1.Assign block.timestamp +1 to the timeOut variable\n",
    "    2.This essentially adds a timeout counter for getting money\n",
    "3. In the withdrawmoney function from 2\n",
    "    1.We now need to enclose everything in an if loop that checks if the timeout is less than the block timestamp. If not, then stop, don’t withdraw\n",
    "4. In the Withdrawtoaddress function\n",
    "    1.Use the same if loop as above.  "
   ]
  },
  {
   "cell_type": "code",
   "execution_count": null,
   "metadata": {},
   "outputs": [],
   "source": []
  }
 ],
 "metadata": {
  "language_info": {
   "name": "python"
  }
 },
 "nbformat": 4,
 "nbformat_minor": 2
}
