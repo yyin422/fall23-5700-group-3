{
 "cells": [
  {
   "cell_type": "markdown",
   "metadata": {},
   "source": [
    "## Assignment 02 – Cryptocurrency Portfolio\n",
    "\n",
    "Group 3: Shufeng Li, Wenlin Ye, Yifei Yin  \n",
    "Github link: https: // github.com/yyin422/fall23-5700-group-3/tree/main/HW2\n"
   ]
  },
  {
   "cell_type": "markdown",
   "metadata": {},
   "source": [
    "#### 1 Importing data and packages\n"
   ]
  },
  {
   "cell_type": "code",
   "execution_count": 1,
   "metadata": {},
   "outputs": [],
   "source": [
    "import pandas_datareader.data as pdr\n",
    "import numpy as np\n",
    "import pandas as pd\n",
    "import matplotlib.pyplot as plt\n",
    "import datetime\n",
    "import requests\n",
    "import time\n",
    "from urllib.parse import urlencode\n",
    "from typing import Dict, List, Union, Optional, Any\n",
    "\n",
    "plt.style.use('bmh')"
   ]
  },
  {
   "cell_type": "markdown",
   "metadata": {},
   "source": [
    "#### 2 Gather Coin token ID information from Coinmarket, Binance, or Coinbase.\n",
    "You will need to search on any of the three websites to get the token IDs. The video shows how to do it through Binance and coin market cap. A slight difference between the Binance token and the coin market token is that the Binance token adds BUSD or USDT at the end, while the CoinMarket token does not. For example, Bitcoin is represented as BTC in CoinMarket and BTCBUSD or BTCUSDT in Binance. This represents the currency conversion to a stablecoin instead of a fiat currency.\n",
    "\n",
    "For the sake of this bit, you can choose any 30 cryptocurrencies except Bitcoin and Ethereum. Here are the categories to select from\n",
    "\n",
    "High market cap group - this will include the most widely traded coins. We will use the top 5 coins, namely, Bitcoin (BTC-USD), Ethereum (ETH-USD), Litecoin (LTC-USD), Teather (USDT), and BNB (BNB-USD).\n",
    "Mid-market cap group will include coins with a market cap between 1 billion and 20 billion. We will use the top 5 coins, namely, Cardano (ADA-USD), Polygon (MATIC-USD), Dogecoin (DOGE-USD), Ripple (XRP-USD), and Binance USD (BUSD).\n",
    "The low market cap group will include coins with a market cap between 100 million and 1 billion. We will use the top 20 coins.\n",
    "Make sure to list the ticker ids in a list of strings"
   ]
  },
  {
   "cell_type": "markdown",
   "metadata": {},
   "source": [
    "#### 2.1 Getting Data From Binance\n",
    "Create a function that takes ticker interval, start_time, and end_time as input. We want to get all the data for the selected tickers and save them in data chosen frames. There is a way to automate this by using a function as well.\n",
    "\n",
    "For each coin/token, you will get a dataframe of daily movements from start to end. The date and time are set as the index. Close, Symbol, and index are the most critical columns, and we want to subset them in a\" coins\" dataframe for all the coins.\n",
    "Rename close to \"Coinname_closeprice.\" Replace the coin name with the name of the coin and token id."
   ]
  },
  {
   "cell_type": "code",
   "execution_count": 2,
   "metadata": {},
   "outputs": [
    {
     "ename": "ModuleNotFoundError",
     "evalue": "No module named 'Binance'",
     "output_type": "error",
     "traceback": [
      "\u001b[1;31m---------------------------------------------------------------------------\u001b[0m",
      "\u001b[1;31mModuleNotFoundError\u001b[0m                       Traceback (most recent call last)",
      "\u001b[1;32m~\\AppData\\Local\\Temp\\ipykernel_29076\\4101821915.py\u001b[0m in \u001b[0;36m<module>\u001b[1;34m\u001b[0m\n\u001b[1;32m----> 1\u001b[1;33m \u001b[1;32mfrom\u001b[0m \u001b[0mBinance\u001b[0m \u001b[1;32mimport\u001b[0m \u001b[0mBinance\u001b[0m\u001b[1;33m\u001b[0m\u001b[1;33m\u001b[0m\u001b[0m\n\u001b[0m\u001b[0;32m      2\u001b[0m \u001b[1;32mimport\u001b[0m \u001b[0mpandas\u001b[0m \u001b[1;32mas\u001b[0m \u001b[0mpd\u001b[0m\u001b[1;33m\u001b[0m\u001b[1;33m\u001b[0m\u001b[0m\n\u001b[0;32m      3\u001b[0m \u001b[1;32mfrom\u001b[0m \u001b[0mpandas\u001b[0m \u001b[1;32mimport\u001b[0m \u001b[0mjson_normalize\u001b[0m\u001b[1;33m\u001b[0m\u001b[1;33m\u001b[0m\u001b[0m\n",
      "\u001b[1;31mModuleNotFoundError\u001b[0m: No module named 'Binance'"
     ]
    }
   ],
   "source": [
    "from Binance import Binance\n",
    "import pandas as pd\n",
    "from pandas import json_normalize"
   ]
  },
  {
   "cell_type": "code",
   "execution_count": 4,
   "metadata": {},
   "outputs": [
    {
     "ename": "NameError",
     "evalue": "name 'Optional' is not defined",
     "output_type": "error",
     "traceback": [
      "\u001b[1;31m---------------------------------------------------------------------------\u001b[0m",
      "\u001b[1;31mNameError\u001b[0m                                 Traceback (most recent call last)",
      "\u001b[1;32m~\\AppData\\Local\\Temp\\ipykernel_29076\\814372309.py\u001b[0m in \u001b[0;36m<module>\u001b[1;34m\u001b[0m\n\u001b[1;32m----> 1\u001b[1;33m \u001b[1;32mdef\u001b[0m \u001b[0mbinance_candle_stick\u001b[0m\u001b[1;33m(\u001b[0m\u001b[0mticker\u001b[0m\u001b[1;33m:\u001b[0m \u001b[0mstr\u001b[0m\u001b[1;33m,\u001b[0m \u001b[0minterval\u001b[0m\u001b[1;33m:\u001b[0m \u001b[0mstr\u001b[0m \u001b[1;33m=\u001b[0m \u001b[1;34m'1d'\u001b[0m\u001b[1;33m,\u001b[0m \u001b[0mstart_time\u001b[0m\u001b[1;33m:\u001b[0m \u001b[0mOptional\u001b[0m\u001b[1;33m[\u001b[0m\u001b[0mint\u001b[0m\u001b[1;33m]\u001b[0m \u001b[1;33m=\u001b[0m \u001b[1;32mNone\u001b[0m\u001b[1;33m,\u001b[0m \u001b[0mend_time\u001b[0m\u001b[1;33m:\u001b[0m \u001b[0mOptional\u001b[0m\u001b[1;33m[\u001b[0m\u001b[0mint\u001b[0m\u001b[1;33m]\u001b[0m \u001b[1;33m=\u001b[0m \u001b[1;32mNone\u001b[0m\u001b[1;33m)\u001b[0m \u001b[1;33m->\u001b[0m \u001b[0mpd\u001b[0m\u001b[1;33m.\u001b[0m\u001b[0mDataFrame\u001b[0m\u001b[1;33m:\u001b[0m\u001b[1;33m\u001b[0m\u001b[1;33m\u001b[0m\u001b[0m\n\u001b[0m\u001b[0;32m      2\u001b[0m     \"\"\"Get historical data from Binance\n\u001b[0;32m      3\u001b[0m \u001b[1;33m\u001b[0m\u001b[0m\n\u001b[0;32m      4\u001b[0m     \u001b[0mArgs\u001b[0m\u001b[1;33m:\u001b[0m\u001b[1;33m\u001b[0m\u001b[1;33m\u001b[0m\u001b[0m\n\u001b[0;32m      5\u001b[0m         \u001b[0mticker\u001b[0m \u001b[1;33m(\u001b[0m\u001b[0mstr\u001b[0m\u001b[1;33m)\u001b[0m\u001b[1;33m:\u001b[0m \u001b[0mThe\u001b[0m \u001b[0mticker\u001b[0m \u001b[0msymbol\u001b[0m\u001b[1;33m,\u001b[0m \u001b[0me\u001b[0m\u001b[1;33m.\u001b[0m\u001b[0mg\u001b[0m\u001b[1;33m.\u001b[0m \u001b[0mBTCUSDT\u001b[0m\u001b[1;33m\u001b[0m\u001b[1;33m\u001b[0m\u001b[0m\n",
      "\u001b[1;31mNameError\u001b[0m: name 'Optional' is not defined"
     ]
    }
   ],
   "source": [
    "def binance_candle_stick(ticker: str, interval: str = '1d', start_time: Optional[int] = None, end_time: Optional[int] = None) -> pd.DataFrame:\n",
    "    \"\"\"Get historical data from Binance\n",
    "\n",
    "    Args:\n",
    "        ticker (str): The ticker symbol, e.g. BTCUSDT\n",
    "        interval (str, optional): The price interval, '1d' ->'daily'. Defaults to '1d'.\n",
    "        start (Optional[int], optional): Starting date, should be long int format. Defaults to None.\n",
    "\n",
    "    Returns:\n",
    "        pd.DataFrame: A dataframe with historical data\n",
    "    \"\"\"\n",
    "\n",
    "    if start_time is None:\n",
    "        start_time = int(datetime.datetime(2020, 6, 1).timestamp()*1000)\n",
    "    if end_time is None:\n",
    "        end_time = int(datetime.datetime.now().timestamp()*1000)\n",
    "\n",
    "    payload = {\n",
    "        'symbol': ticker,\n",
    "        'interval': interval,\n",
    "        'startTime': start_time,\n",
    "        'endTime': end_time,\n",
    "        'limit': 1000\n",
    "    }\n",
    "    query_string = urlencode(payload, True)\n",
    "    url = 'https://api.binance.us/api/v3/klines'\n",
    "    if query_string:\n",
    "        url = url + '?' + query_string\n",
    "    response = requests.get(url)\n",
    "    columns = ['open_time', 'open', 'high', 'low', 'close', 'volume', 'close_time', 'qav', 'num_trades', 'taker_base_vol', 'taker_quote_vol', 'ignore']\n",
    "    data = pd.DataFrame(response.json(), columns=columns, dtype=float)\n",
    "    data['open_time'] = pd.to_datetime(data['open_time'], unit='ms').dt.strftime('%Y-%m-%d %H:%M:%S')\n",
    "    data.set_index('open_time', inplace=True)\n",
    "\n",
    "    return data[['open', 'high', 'low', 'close', 'volume', 'qav', 'num_trades', 'taker_base_vol', 'taker_quote_vol']]"
   ]
  },
  {
   "cell_type": "code",
   "execution_count": 5,
   "metadata": {},
   "outputs": [],
   "source": [
    "def obtain_binance_exchangeInfo() -> pd.DataFrame:\n",
    "    \"\"\"Get the exchange info from Binance\"\"\"\n",
    "    url = 'https://api.binance.us/api/v3/exchangeInfo'\n",
    "    response = requests.get(url)\n",
    "    data = pd.json_normalize(response.json()['symbols'])\n",
    "\n",
    "    return data"
   ]
  },
  {
   "cell_type": "code",
   "execution_count": 6,
   "metadata": {},
   "outputs": [],
   "source": [
    "exchangeInfo = obtain_binance_exchangeInfo()\n",
    "asset = exchangeInfo.baseAsset.unique()[2:40]"
   ]
  },
  {
   "cell_type": "code",
   "execution_count": 7,
   "metadata": {},
   "outputs": [
    {
     "name": "stderr",
     "output_type": "stream",
     "text": [
      "/var/folders/s1/2z11zjf503j5424zkxq225nw0000gn/T/ipykernel_83353/4175076379.py:1: UserWarning: Boolean Series key will be reindexed to match DataFrame index.\n",
      "  symbol = exchangeInfo[exchangeInfo.baseAsset.isin(asset)][exchangeInfo.quoteAsset == 'USD'].symbol.values[:30]\n"
     ]
    }
   ],
   "source": [
    "symbol = exchangeInfo[exchangeInfo.baseAsset.isin(asset)][exchangeInfo.quoteAsset == 'USD'].symbol.values[:30]\n",
    "# symbol"
   ]
  },
  {
   "cell_type": "code",
   "execution_count": 8,
   "metadata": {},
   "outputs": [],
   "source": [
    "\n",
    "def clean_single(data:pd.DataFrame, symbol:str) -> pd.DataFrame:\n",
    "    \"\"\"Clean the data\n",
    "\n",
    "    Args:\n",
    "        data (pd.DataFrame): Original data\n",
    "        symbol (str): The ticker symbol\n",
    "\n",
    "    Returns:\n",
    "        pd.DataFrame: Return a cleaned dataframe with only close price and symbol as column name.\n",
    "    \"\"\"\n",
    "    data = data['close']\n",
    "    data = data.rename(symbol)\n",
    "    return data.reset_index()"
   ]
  },
  {
   "cell_type": "code",
   "execution_count": 13,
   "metadata": {},
   "outputs": [],
   "source": [
    "# Obtain all data of the symbols\n",
    "all_data = {}\n",
    "for smb in symbol:\n",
    "    all_data[smb] = binance_candle_stick(smb, interval = '1d')\n",
    "    time.sleep(0.1)"
   ]
  },
  {
   "cell_type": "code",
   "execution_count": 17,
   "metadata": {},
   "outputs": [
    {
     "data": {
      "text/html": [
       "<div>\n",
       "<style scoped>\n",
       "    .dataframe tbody tr th:only-of-type {\n",
       "        vertical-align: middle;\n",
       "    }\n",
       "\n",
       "    .dataframe tbody tr th {\n",
       "        vertical-align: top;\n",
       "    }\n",
       "\n",
       "    .dataframe thead th {\n",
       "        text-align: right;\n",
       "    }\n",
       "</style>\n",
       "<table border=\"1\" class=\"dataframe\">\n",
       "  <thead>\n",
       "    <tr style=\"text-align: right;\">\n",
       "      <th></th>\n",
       "      <th>open</th>\n",
       "      <th>high</th>\n",
       "      <th>low</th>\n",
       "      <th>close</th>\n",
       "      <th>volume</th>\n",
       "      <th>qav</th>\n",
       "      <th>num_trades</th>\n",
       "      <th>taker_base_vol</th>\n",
       "      <th>taker_quote_vol</th>\n",
       "    </tr>\n",
       "    <tr>\n",
       "      <th>open_time</th>\n",
       "      <th></th>\n",
       "      <th></th>\n",
       "      <th></th>\n",
       "      <th></th>\n",
       "      <th></th>\n",
       "      <th></th>\n",
       "      <th></th>\n",
       "      <th></th>\n",
       "      <th></th>\n",
       "    </tr>\n",
       "  </thead>\n",
       "  <tbody>\n",
       "    <tr>\n",
       "      <th>2020-06-02 00:00:00</th>\n",
       "      <td>253.44</td>\n",
       "      <td>269.25</td>\n",
       "      <td>242.01</td>\n",
       "      <td>251.17</td>\n",
       "      <td>1758.48550</td>\n",
       "      <td>449529.2852</td>\n",
       "      <td>2325.0</td>\n",
       "      <td>992.11013</td>\n",
       "      <td>253801.7295</td>\n",
       "    </tr>\n",
       "    <tr>\n",
       "      <th>2020-06-03 00:00:00</th>\n",
       "      <td>250.76</td>\n",
       "      <td>253.80</td>\n",
       "      <td>246.60</td>\n",
       "      <td>253.18</td>\n",
       "      <td>635.46949</td>\n",
       "      <td>159400.3513</td>\n",
       "      <td>624.0</td>\n",
       "      <td>345.38646</td>\n",
       "      <td>86712.3188</td>\n",
       "    </tr>\n",
       "    <tr>\n",
       "      <th>2020-06-04 00:00:00</th>\n",
       "      <td>253.39</td>\n",
       "      <td>260.69</td>\n",
       "      <td>247.80</td>\n",
       "      <td>256.50</td>\n",
       "      <td>881.60028</td>\n",
       "      <td>225372.0124</td>\n",
       "      <td>874.0</td>\n",
       "      <td>477.01974</td>\n",
       "      <td>121609.4981</td>\n",
       "    </tr>\n",
       "    <tr>\n",
       "      <th>2020-06-05 00:00:00</th>\n",
       "      <td>256.43</td>\n",
       "      <td>263.04</td>\n",
       "      <td>254.53</td>\n",
       "      <td>255.90</td>\n",
       "      <td>678.38959</td>\n",
       "      <td>174886.7101</td>\n",
       "      <td>671.0</td>\n",
       "      <td>242.19525</td>\n",
       "      <td>62602.9948</td>\n",
       "    </tr>\n",
       "    <tr>\n",
       "      <th>2020-06-06 00:00:00</th>\n",
       "      <td>255.43</td>\n",
       "      <td>257.82</td>\n",
       "      <td>251.20</td>\n",
       "      <td>253.28</td>\n",
       "      <td>528.49909</td>\n",
       "      <td>134208.6292</td>\n",
       "      <td>462.0</td>\n",
       "      <td>294.56256</td>\n",
       "      <td>74799.2667</td>\n",
       "    </tr>\n",
       "  </tbody>\n",
       "</table>\n",
       "</div>"
      ],
      "text/plain": [
       "                       open    high     low   close      volume          qav  \\\n",
       "open_time                                                                      \n",
       "2020-06-02 00:00:00  253.44  269.25  242.01  251.17  1758.48550  449529.2852   \n",
       "2020-06-03 00:00:00  250.76  253.80  246.60  253.18   635.46949  159400.3513   \n",
       "2020-06-04 00:00:00  253.39  260.69  247.80  256.50   881.60028  225372.0124   \n",
       "2020-06-05 00:00:00  256.43  263.04  254.53  255.90   678.38959  174886.7101   \n",
       "2020-06-06 00:00:00  255.43  257.82  251.20  253.28   528.49909  134208.6292   \n",
       "\n",
       "                     num_trades  taker_base_vol  taker_quote_vol  \n",
       "open_time                                                         \n",
       "2020-06-02 00:00:00      2325.0       992.11013      253801.7295  \n",
       "2020-06-03 00:00:00       624.0       345.38646       86712.3188  \n",
       "2020-06-04 00:00:00       874.0       477.01974      121609.4981  \n",
       "2020-06-05 00:00:00       671.0       242.19525       62602.9948  \n",
       "2020-06-06 00:00:00       462.0       294.56256       74799.2667  "
      ]
     },
     "execution_count": 17,
     "metadata": {},
     "output_type": "execute_result"
    }
   ],
   "source": [
    "all_data['BCHUSD'].head()"
   ]
  },
  {
   "cell_type": "markdown",
   "metadata": {},
   "source": [
    "#### 2.2 Combining the dataframe\n",
    "The updated dataframe should have the index and close price of all the coins of interest. We will use this to calculate the efficient frontier for the portfolio."
   ]
  },
  {
   "cell_type": "code",
   "execution_count": 15,
   "metadata": {},
   "outputs": [
    {
     "name": "stderr",
     "output_type": "stream",
     "text": [
      "/var/folders/s1/2z11zjf503j5424zkxq225nw0000gn/T/ipykernel_83353/3735920777.py:12: FutureWarning: Passing 'suffixes' which cause duplicate columns {'taker_base_vol_x', 'close_x', 'open_x', 'volume_x', 'qav_x', 'high_x', 'taker_quote_vol_x', 'low_x', 'num_trades_x'} in the result is deprecated and will raise a MergeError in a future version.\n",
      "  coins = pd.merge(coins, value, on='open_time', how='inner')\n",
      "/var/folders/s1/2z11zjf503j5424zkxq225nw0000gn/T/ipykernel_83353/3735920777.py:12: FutureWarning: Passing 'suffixes' which cause duplicate columns {'taker_base_vol_x', 'close_x', 'open_x', 'volume_x', 'qav_x', 'high_x', 'taker_quote_vol_x', 'low_x', 'num_trades_x'} in the result is deprecated and will raise a MergeError in a future version.\n",
      "  coins = pd.merge(coins, value, on='open_time', how='inner')\n",
      "/var/folders/s1/2z11zjf503j5424zkxq225nw0000gn/T/ipykernel_83353/3735920777.py:12: FutureWarning: Passing 'suffixes' which cause duplicate columns {'taker_base_vol_x', 'close_x', 'open_x', 'volume_x', 'qav_x', 'high_x', 'taker_quote_vol_x', 'low_x', 'num_trades_x'} in the result is deprecated and will raise a MergeError in a future version.\n",
      "  coins = pd.merge(coins, value, on='open_time', how='inner')\n",
      "/var/folders/s1/2z11zjf503j5424zkxq225nw0000gn/T/ipykernel_83353/3735920777.py:12: FutureWarning: Passing 'suffixes' which cause duplicate columns {'taker_base_vol_x', 'close_x', 'open_x', 'volume_x', 'qav_x', 'high_x', 'taker_quote_vol_x', 'low_x', 'num_trades_x'} in the result is deprecated and will raise a MergeError in a future version.\n",
      "  coins = pd.merge(coins, value, on='open_time', how='inner')\n",
      "/var/folders/s1/2z11zjf503j5424zkxq225nw0000gn/T/ipykernel_83353/3735920777.py:12: FutureWarning: Passing 'suffixes' which cause duplicate columns {'taker_base_vol_x', 'close_x', 'open_x', 'volume_x', 'qav_x', 'high_x', 'taker_quote_vol_x', 'low_x', 'num_trades_x'} in the result is deprecated and will raise a MergeError in a future version.\n",
      "  coins = pd.merge(coins, value, on='open_time', how='inner')\n",
      "/var/folders/s1/2z11zjf503j5424zkxq225nw0000gn/T/ipykernel_83353/3735920777.py:12: FutureWarning: Passing 'suffixes' which cause duplicate columns {'taker_base_vol_x', 'close_x', 'open_x', 'volume_x', 'qav_x', 'high_x', 'taker_quote_vol_x', 'low_x', 'num_trades_x'} in the result is deprecated and will raise a MergeError in a future version.\n",
      "  coins = pd.merge(coins, value, on='open_time', how='inner')\n",
      "/var/folders/s1/2z11zjf503j5424zkxq225nw0000gn/T/ipykernel_83353/3735920777.py:12: FutureWarning: Passing 'suffixes' which cause duplicate columns {'taker_base_vol_x', 'close_x', 'open_x', 'volume_x', 'qav_x', 'high_x', 'taker_quote_vol_x', 'low_x', 'num_trades_x'} in the result is deprecated and will raise a MergeError in a future version.\n",
      "  coins = pd.merge(coins, value, on='open_time', how='inner')\n",
      "/var/folders/s1/2z11zjf503j5424zkxq225nw0000gn/T/ipykernel_83353/3735920777.py:12: FutureWarning: Passing 'suffixes' which cause duplicate columns {'taker_base_vol_x', 'close_x', 'open_x', 'volume_x', 'qav_x', 'high_x', 'taker_quote_vol_x', 'low_x', 'num_trades_x'} in the result is deprecated and will raise a MergeError in a future version.\n",
      "  coins = pd.merge(coins, value, on='open_time', how='inner')\n",
      "/var/folders/s1/2z11zjf503j5424zkxq225nw0000gn/T/ipykernel_83353/3735920777.py:12: FutureWarning: Passing 'suffixes' which cause duplicate columns {'taker_base_vol_x', 'close_x', 'open_x', 'volume_x', 'qav_x', 'high_x', 'taker_quote_vol_x', 'low_x', 'num_trades_x'} in the result is deprecated and will raise a MergeError in a future version.\n",
      "  coins = pd.merge(coins, value, on='open_time', how='inner')\n",
      "/var/folders/s1/2z11zjf503j5424zkxq225nw0000gn/T/ipykernel_83353/3735920777.py:12: FutureWarning: Passing 'suffixes' which cause duplicate columns {'taker_base_vol_x', 'close_x', 'open_x', 'volume_x', 'qav_x', 'high_x', 'taker_quote_vol_x', 'low_x', 'num_trades_x'} in the result is deprecated and will raise a MergeError in a future version.\n",
      "  coins = pd.merge(coins, value, on='open_time', how='inner')\n",
      "/var/folders/s1/2z11zjf503j5424zkxq225nw0000gn/T/ipykernel_83353/3735920777.py:12: FutureWarning: Passing 'suffixes' which cause duplicate columns {'taker_base_vol_x', 'close_x', 'open_x', 'volume_x', 'qav_x', 'high_x', 'taker_quote_vol_x', 'low_x', 'num_trades_x'} in the result is deprecated and will raise a MergeError in a future version.\n",
      "  coins = pd.merge(coins, value, on='open_time', how='inner')\n",
      "/var/folders/s1/2z11zjf503j5424zkxq225nw0000gn/T/ipykernel_83353/3735920777.py:12: FutureWarning: Passing 'suffixes' which cause duplicate columns {'taker_base_vol_x', 'close_x', 'open_x', 'volume_x', 'qav_x', 'high_x', 'taker_quote_vol_x', 'low_x', 'num_trades_x'} in the result is deprecated and will raise a MergeError in a future version.\n",
      "  coins = pd.merge(coins, value, on='open_time', how='inner')\n",
      "/var/folders/s1/2z11zjf503j5424zkxq225nw0000gn/T/ipykernel_83353/3735920777.py:12: FutureWarning: Passing 'suffixes' which cause duplicate columns {'taker_base_vol_x', 'close_x', 'open_x', 'volume_x', 'qav_x', 'high_x', 'taker_quote_vol_x', 'low_x', 'num_trades_x'} in the result is deprecated and will raise a MergeError in a future version.\n",
      "  coins = pd.merge(coins, value, on='open_time', how='inner')\n",
      "/var/folders/s1/2z11zjf503j5424zkxq225nw0000gn/T/ipykernel_83353/3735920777.py:12: FutureWarning: Passing 'suffixes' which cause duplicate columns {'taker_base_vol_x', 'close_x', 'open_x', 'volume_x', 'qav_x', 'high_x', 'taker_quote_vol_x', 'low_x', 'num_trades_x'} in the result is deprecated and will raise a MergeError in a future version.\n",
      "  coins = pd.merge(coins, value, on='open_time', how='inner')\n"
     ]
    }
   ],
   "source": [
    "coins = pd.DataFrame()\n",
    "for key, value in all_data.items():\n",
    "    # Ensure 'open_time' is a column and not an index in value\n",
    "    value = value.reset_index()\n",
    "    \n",
    "    # If coins DataFrame is empty, simply assign the current DataFrame value to coins\n",
    "    if coins.empty:\n",
    "        coins = value\n",
    "        continue\n",
    "    \n",
    "    # Merge coins with the current DataFrame value based on 'open_time'\n",
    "    coins = pd.merge(coins, value, on='open_time', how='inner')\n",
    "\n",
    "# Convert the 'open_time' column to datetime and set it as index only after all merges are done\n",
    "coins['open_time'] = pd.to_datetime(coins['open_time'], format='%Y-%m-%d %H:%M:%S')\n",
    "coins.set_index('open_time', inplace=True)\n",
    "\n"
   ]
  },
  {
   "cell_type": "code",
   "execution_count": 16,
   "metadata": {},
   "outputs": [
    {
     "data": {
      "text/html": [
       "<div>\n",
       "<style scoped>\n",
       "    .dataframe tbody tr th:only-of-type {\n",
       "        vertical-align: middle;\n",
       "    }\n",
       "\n",
       "    .dataframe tbody tr th {\n",
       "        vertical-align: top;\n",
       "    }\n",
       "\n",
       "    .dataframe thead th {\n",
       "        text-align: right;\n",
       "    }\n",
       "</style>\n",
       "<table border=\"1\" class=\"dataframe\">\n",
       "  <thead>\n",
       "    <tr style=\"text-align: right;\">\n",
       "      <th></th>\n",
       "      <th>open_x</th>\n",
       "      <th>high_x</th>\n",
       "      <th>low_x</th>\n",
       "      <th>close_x</th>\n",
       "      <th>volume_x</th>\n",
       "      <th>qav_x</th>\n",
       "      <th>num_trades_x</th>\n",
       "      <th>taker_base_vol_x</th>\n",
       "      <th>taker_quote_vol_x</th>\n",
       "      <th>open_y</th>\n",
       "      <th>...</th>\n",
       "      <th>taker_quote_vol_x</th>\n",
       "      <th>open_y</th>\n",
       "      <th>high_y</th>\n",
       "      <th>low_y</th>\n",
       "      <th>close_y</th>\n",
       "      <th>volume_y</th>\n",
       "      <th>qav_y</th>\n",
       "      <th>num_trades_y</th>\n",
       "      <th>taker_base_vol_y</th>\n",
       "      <th>taker_quote_vol_y</th>\n",
       "    </tr>\n",
       "    <tr>\n",
       "      <th>open_time</th>\n",
       "      <th></th>\n",
       "      <th></th>\n",
       "      <th></th>\n",
       "      <th></th>\n",
       "      <th></th>\n",
       "      <th></th>\n",
       "      <th></th>\n",
       "      <th></th>\n",
       "      <th></th>\n",
       "      <th></th>\n",
       "      <th></th>\n",
       "      <th></th>\n",
       "      <th></th>\n",
       "      <th></th>\n",
       "      <th></th>\n",
       "      <th></th>\n",
       "      <th></th>\n",
       "      <th></th>\n",
       "      <th></th>\n",
       "      <th></th>\n",
       "      <th></th>\n",
       "    </tr>\n",
       "  </thead>\n",
       "  <tbody>\n",
       "    <tr>\n",
       "      <th>2020-06-23</th>\n",
       "      <td>242.25</td>\n",
       "      <td>244.28</td>\n",
       "      <td>239.38</td>\n",
       "      <td>240.49</td>\n",
       "      <td>183.29164</td>\n",
       "      <td>44321.8087</td>\n",
       "      <td>322.0</td>\n",
       "      <td>92.03304</td>\n",
       "      <td>22256.9924</td>\n",
       "      <td>44.37</td>\n",
       "      <td>...</td>\n",
       "      <td>39872.1429</td>\n",
       "      <td>2.5726</td>\n",
       "      <td>2.5899</td>\n",
       "      <td>2.5683</td>\n",
       "      <td>2.5683</td>\n",
       "      <td>1024.18</td>\n",
       "      <td>2642.9488</td>\n",
       "      <td>33.0</td>\n",
       "      <td>789.47</td>\n",
       "      <td>2037.7954</td>\n",
       "    </tr>\n",
       "    <tr>\n",
       "      <th>2020-06-24</th>\n",
       "      <td>240.16</td>\n",
       "      <td>245.09</td>\n",
       "      <td>230.00</td>\n",
       "      <td>232.51</td>\n",
       "      <td>416.29881</td>\n",
       "      <td>98497.0753</td>\n",
       "      <td>629.0</td>\n",
       "      <td>166.32068</td>\n",
       "      <td>39466.1529</td>\n",
       "      <td>44.19</td>\n",
       "      <td>...</td>\n",
       "      <td>25486.0215</td>\n",
       "      <td>2.5715</td>\n",
       "      <td>2.5973</td>\n",
       "      <td>2.4800</td>\n",
       "      <td>2.4868</td>\n",
       "      <td>4450.94</td>\n",
       "      <td>11362.6596</td>\n",
       "      <td>114.0</td>\n",
       "      <td>3097.00</td>\n",
       "      <td>7925.5204</td>\n",
       "    </tr>\n",
       "    <tr>\n",
       "      <th>2020-06-25</th>\n",
       "      <td>232.52</td>\n",
       "      <td>234.57</td>\n",
       "      <td>226.19</td>\n",
       "      <td>232.33</td>\n",
       "      <td>198.95030</td>\n",
       "      <td>46178.2788</td>\n",
       "      <td>276.0</td>\n",
       "      <td>53.59672</td>\n",
       "      <td>12436.9729</td>\n",
       "      <td>42.49</td>\n",
       "      <td>...</td>\n",
       "      <td>42762.5933</td>\n",
       "      <td>2.5137</td>\n",
       "      <td>2.5137</td>\n",
       "      <td>2.4671</td>\n",
       "      <td>2.4801</td>\n",
       "      <td>433.94</td>\n",
       "      <td>1081.1306</td>\n",
       "      <td>20.0</td>\n",
       "      <td>305.17</td>\n",
       "      <td>760.4697</td>\n",
       "    </tr>\n",
       "    <tr>\n",
       "      <th>2020-06-26</th>\n",
       "      <td>230.95</td>\n",
       "      <td>233.17</td>\n",
       "      <td>228.12</td>\n",
       "      <td>230.82</td>\n",
       "      <td>188.70994</td>\n",
       "      <td>43602.7461</td>\n",
       "      <td>397.0</td>\n",
       "      <td>69.51320</td>\n",
       "      <td>16019.9054</td>\n",
       "      <td>42.24</td>\n",
       "      <td>...</td>\n",
       "      <td>7287.9616</td>\n",
       "      <td>2.4750</td>\n",
       "      <td>2.5056</td>\n",
       "      <td>2.4201</td>\n",
       "      <td>2.4867</td>\n",
       "      <td>2653.39</td>\n",
       "      <td>6533.9193</td>\n",
       "      <td>84.0</td>\n",
       "      <td>1287.73</td>\n",
       "      <td>3160.4356</td>\n",
       "    </tr>\n",
       "    <tr>\n",
       "      <th>2020-06-27</th>\n",
       "      <td>229.75</td>\n",
       "      <td>231.22</td>\n",
       "      <td>200.01</td>\n",
       "      <td>216.05</td>\n",
       "      <td>953.67012</td>\n",
       "      <td>204255.4208</td>\n",
       "      <td>720.0</td>\n",
       "      <td>409.01277</td>\n",
       "      <td>87491.5878</td>\n",
       "      <td>42.93</td>\n",
       "      <td>...</td>\n",
       "      <td>58517.1474</td>\n",
       "      <td>2.4867</td>\n",
       "      <td>2.4868</td>\n",
       "      <td>2.2795</td>\n",
       "      <td>2.3365</td>\n",
       "      <td>4009.03</td>\n",
       "      <td>9394.9744</td>\n",
       "      <td>145.0</td>\n",
       "      <td>2664.61</td>\n",
       "      <td>6195.0610</td>\n",
       "    </tr>\n",
       "  </tbody>\n",
       "</table>\n",
       "<p>5 rows × 270 columns</p>\n",
       "</div>"
      ],
      "text/plain": [
       "            open_x  high_x   low_x  close_x   volume_x        qav_x  \\\n",
       "open_time                                                             \n",
       "2020-06-23  242.25  244.28  239.38   240.49  183.29164   44321.8087   \n",
       "2020-06-24  240.16  245.09  230.00   232.51  416.29881   98497.0753   \n",
       "2020-06-25  232.52  234.57  226.19   232.33  198.95030   46178.2788   \n",
       "2020-06-26  230.95  233.17  228.12   230.82  188.70994   43602.7461   \n",
       "2020-06-27  229.75  231.22  200.01   216.05  953.67012  204255.4208   \n",
       "\n",
       "            num_trades_x  taker_base_vol_x  taker_quote_vol_x  open_y  ...  \\\n",
       "open_time                                                              ...   \n",
       "2020-06-23         322.0          92.03304         22256.9924   44.37  ...   \n",
       "2020-06-24         629.0         166.32068         39466.1529   44.19  ...   \n",
       "2020-06-25         276.0          53.59672         12436.9729   42.49  ...   \n",
       "2020-06-26         397.0          69.51320         16019.9054   42.24  ...   \n",
       "2020-06-27         720.0         409.01277         87491.5878   42.93  ...   \n",
       "\n",
       "            taker_quote_vol_x  open_y  high_y   low_y  close_y  volume_y  \\\n",
       "open_time                                                                  \n",
       "2020-06-23         39872.1429  2.5726  2.5899  2.5683   2.5683   1024.18   \n",
       "2020-06-24         25486.0215  2.5715  2.5973  2.4800   2.4868   4450.94   \n",
       "2020-06-25         42762.5933  2.5137  2.5137  2.4671   2.4801    433.94   \n",
       "2020-06-26          7287.9616  2.4750  2.5056  2.4201   2.4867   2653.39   \n",
       "2020-06-27         58517.1474  2.4867  2.4868  2.2795   2.3365   4009.03   \n",
       "\n",
       "                 qav_y  num_trades_y  taker_base_vol_y  taker_quote_vol_y  \n",
       "open_time                                                                  \n",
       "2020-06-23   2642.9488          33.0            789.47          2037.7954  \n",
       "2020-06-24  11362.6596         114.0           3097.00          7925.5204  \n",
       "2020-06-25   1081.1306          20.0            305.17           760.4697  \n",
       "2020-06-26   6533.9193          84.0           1287.73          3160.4356  \n",
       "2020-06-27   9394.9744         145.0           2664.61          6195.0610  \n",
       "\n",
       "[5 rows x 270 columns]"
      ]
     },
     "execution_count": 16,
     "metadata": {},
     "output_type": "execute_result"
    }
   ],
   "source": [
    "coins.head()"
   ]
  },
  {
   "cell_type": "markdown",
   "metadata": {},
   "source": [
    "#### 3. Calculating the Efficient Frontier\n",
    "To calculate an efficient frontier, we will need to calculate each coin's means, standard deviations, and covariances.\n",
    "\n",
    "Calculate the mean of the dataframe generated in 2.2 using pd.df.mean() method\n",
    "Calculate the covariance matrix of the dataframe generated in 2.2 using pd.df.cov() method\n",
    "Use the function in the video to generate a complete crypto portfolio for $10,000."
   ]
  },
  {
   "cell_type": "markdown",
   "metadata": {},
   "source": []
  },
  {
   "cell_type": "code",
   "execution_count": null,
   "metadata": {},
   "outputs": [],
   "source": [
    "def calc_daily_returns(df):\n",
    "    return (df.pct_change())\n",
    " #calculate the daily percent change between the \n",
    " \n",
    "coin_daily_returns = calc_daily_returns(Combined data)\n",
    "coin_daily_returns.head()\n"
   ]
  },
  {
   "cell_type": "code",
   "execution_count": null,
   "metadata": {},
   "outputs": [],
   "source": [
    "def calc_mean_daily_returns(daily_returns):\n",
    "    return(daily_returns.mean())\n",
    "# calculate the mean daily returns for each coin\n",
    "coin_mean_daily_returns = calc_mean_daily_returns(coin_daily_returns)\n",
    "coin_mean_daily_returns"
   ]
  },
  {
   "cell_type": "code",
   "execution_count": null,
   "metadata": {},
   "outputs": [],
   "source": [
    "def calc_covariance_matrix(daily_returns):\n",
    "    return (daily_returns.cov())\n",
    "crypto_cov_matrix = calc_covariance_matrix(coin_daily_returns)\n",
    "print(crypto_cov_matrix)"
   ]
  },
  {
   "cell_type": "code",
   "execution_count": null,
   "metadata": {},
   "outputs": [],
   "source": [
    "def portfolio_statistics(coins, number_portfolios, mean daily_returns, cov matrix):\n",
    "    len_coins=len(coins)\n",
    "    results_temp = np.zeros((4 + len coins - 1, number_portfolios))\n",
    "    for i in range(number_portfolios):# select random weights for portfolio holdings\n",
    "    weights = np.array(np.random.random(len_coins))\n",
    "\n",
    "# rebalance weights to sum to 1\n",
    "    weights /= np .sum(weights)\n",
    "# calculate portfolio return and volatility\n",
    "    portfolio_return = np.sum(mean_daily_returns * weights) * 252\n",
    "    portfolio_std_dev = np.sqrt(np.dot(weights.T, np.dot(cov_matrix, weights))) * np.sqrt(252)\n",
    "    \n",
    "# 3month T-Bill yield used as risk free rate of return\n",
    "    risk_free_return = 0.0139\n",
    "# store results in results arrayresults \n",
    "    results_temp[0, i]= portfolio_return\n",
    "    results_temp[1, i] = portfolio_std_dev\n",
    "# store sharpe Ratio (returnvolatilitynisk free rate element excluded forsimplicity\n",
    "    results_temp[2, i] = (results_temp[0, i] - risk_free_return) / results_temp[1, i]\n",
    "# iterate through the weight vector and add data to results array\n",
    "    for j in range(len(weights)):\n",
    "        results_temp[j + 3, i] = weights[j]\n",
    "# convert results array to Pandas DataFramesharpe'\n",
    "    results_df = pd.DataFrame(results_temp.T, columns=['returns', 'stdev', 'sharpe', coins[0],\n",
    "                                                       coins[1],coins[2]])\n",
    "return (results_df) "
   ]
  },
  {
   "cell_type": "code",
   "execution_count": null,
   "metadata": {},
   "outputs": [],
   "source": [
    "crypto_results = portfolio_statistics(coins,10000, coin_mean_daily_returns, crypto_cov_matrix)\n",
    "crypto_results .head(15)"
   ]
  },
  {
   "cell_type": "markdown",
   "metadata": {},
   "source": [
    "#### 4. Locate the Best portfolios\n",
    "The percentages returned from the best portfolio search represent the total assets added to each coin from the $10, 000."
   ]
  },
  {
   "cell_type": "markdown",
   "metadata": {},
   "source": [
    "#### 4.1 Locate the position of the portfolio with the highest Sharpe Ratio"
   ]
  },
  {
   "cell_type": "code",
   "execution_count": null,
   "metadata": {},
   "outputs": [],
   "source": [
    "def max_sharpe_ratio(results_df):\n",
    "    \"\"\"locate portfolio with highest Sharpe Ratio\"\"\"\n",
    "    return results_df.iloc[results_df['sharpe' ].idxmax()]\n",
    "crypto_max_sharpe_portfolio = maxs_sharpe_ratio(cryptoresults)\n",
    "crypto_max_sharpe_portfolio"
   ]
  },
  {
   "cell_type": "markdown",
   "metadata": {},
   "source": [
    "#### 4.2 Locate the portfolio with the lowest volatility\n"
   ]
  },
  {
   "cell_type": "code",
   "execution_count": null,
   "metadata": {},
   "outputs": [],
   "source": [
    "def min_volatility(results_df):\n",
    "#\"\"\"locate portfolio with lowest volatility\"\"\"\n",
    "    return results_df.iloc[results_df['stdev'].idxmin()]\n",
    "crypto_min_vol_portfolio = min_volatility(cryptoresults)\n",
    "print(crypto_min_vol_portfolio)"
   ]
  },
  {
   "cell_type": "markdown",
   "metadata": {},
   "source": [
    "#### 4.3 Plot the efficient portfolio"
   ]
  },
  {
   "cell_type": "code",
   "execution_count": null,
   "metadata": {},
   "outputs": [],
   "source": [
    "def plot_graph(results_df, max_sharpe_port, min_vol_port):\n",
    "    ax = results_df.plot(kind= 'scatter', x = 'stdev', y='returns', s = 30,\n",
    "                         c=results_df.sharpe, cmap='RdYlBu',edgecolors='.1')\n",
    "ax.grid(False, color='#777777\", linestyle='-.', linewidth=0.5)\n",
    "ax.set_facecolor('#f7f7f7')\n",
    "ax.set_xlabel('Volatility')\n",
    "ax.set_ylabel(Returns')\n",
    "ax.tick_params(labelsize = 14)\n",
    "# # plot red star to highlight the position of the portfolio with highest Sharpe Ratio\n",
    "ax.scatter(max_sharpe_port[1], max_sharpe_port[0], marker=(5, 1, 0), color='#993300'. s= 200)\n",
    "# # plot green star to highlight position of minimum variance portfolio\n",
    "ax.scatter(min_vol_port[1], min_vol_port[0], marker=(5, 1, 0), color='#009933', s = 200)\n",
    "plot_graph(crypto_results, crypto_max_sharpe_portfolio, crypto_min_vol_portfolio)\n",
    "plt.show()"
   ]
  }
 ],
 "metadata": {
  "kernelspec": {
   "display_name": "anly503",
   "language": "python",
   "name": "python3"
  },
  "language_info": {
   "codemirror_mode": {
    "name": "ipython",
    "version": 3
   },
   "file_extension": ".py",
   "mimetype": "text/x-python",
   "name": "python",
   "nbconvert_exporter": "python",
   "pygments_lexer": "ipython3",
   "version": "3.9.13"
  },
  "orig_nbformat": 4
 },
 "nbformat": 4,
 "nbformat_minor": 2
}
